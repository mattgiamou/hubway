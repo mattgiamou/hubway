{
 "cells": [
  {
   "cell_type": "markdown",
   "metadata": {},
   "source": [
    "## Hubway Visualization"
   ]
  },
  {
   "cell_type": "code",
   "execution_count": 80,
   "metadata": {
    "collapsed": false
   },
   "outputs": [
    {
     "name": "stdout",
     "output_type": "stream",
     "text": [
      "The autoreload extension is already loaded. To reload it, use:\n",
      "  %reload_ext autoreload\n"
     ]
    }
   ],
   "source": [
    "%load_ext autoreload\n",
    "%autoreload 2\n",
    "%matplotlib inline\n",
    "import numpy as np\n",
    "import pandas as pd\n",
    "import matplotlib\n",
    "import matplotlib.pyplot as plt\n",
    "matplotlib.style.use('fivethirtyeight')\n",
    "\n",
    "import seaborn as sns\n",
    "import geoplotlib as gp\n",
    "\n",
    "from dataset_io import get_stations, get_all_trip_data\n",
    "from station_geography import lat_lon_to_xy"
   ]
  },
  {
   "cell_type": "code",
   "execution_count": 34,
   "metadata": {
    "collapsed": false
   },
   "outputs": [
    {
     "name": "stdout",
     "output_type": "stream",
     "text": [
      "                                             Station Station ID        lat  \\\n",
      "0          359 Broadway - Broadway at Fayette Street     M32026  42.370803   \n",
      "1                      Agganis Arena - 925 Comm Ave.     A32002  42.351246   \n",
      "2                   Alewife Station at Russell Field     M32033  42.396105   \n",
      "3  Allston Green District - Commonwealth Ave & Gr...     A32017  42.348607   \n",
      "4                                 Ames St at Main St     M32037  42.362500   \n",
      "\n",
      "         lon Municipality  # of Docks  \n",
      "0 -71.104412    Cambridge          19  \n",
      "1 -71.115639       Boston          19  \n",
      "2 -71.139459    Cambridge          23  \n",
      "3 -71.134010       Boston          15  \n",
      "4 -71.088220    Cambridge          19  \n"
     ]
    }
   ],
   "source": [
    "## Extract station data\n",
    "stations = get_stations()\n",
    "\n",
    "#print(stations.describe())\n",
    "print(stations.head())\n",
    "#stations['Station']\n",
    "\n",
    "# Don't need all these, probably\n",
    "ids = stations['Station ID'].as_matrix()\n",
    "lat = stations['lat'].as_matrix()*np.pi/180.0\n",
    "lon = stations['lon'].as_matrix()*np.pi/180.0\n",
    "mun = stations['Municipality'].as_matrix()\n",
    "names = stations['Station'].as_matrix()\n",
    "n_docks = stations['# of Docks'].as_matrix()\n",
    "\n",
    "# print(np.unique(ids))"
   ]
  },
  {
   "cell_type": "code",
   "execution_count": 82,
   "metadata": {
    "collapsed": false
   },
   "outputs": [
    {
     "name": "stderr",
     "output_type": "stream",
     "text": [
      "/home/mattgiamou/.virtualenvs/cv3/lib/python3.4/site-packages/pandas/core/ops.py:714: FutureWarning: elementwise comparison failed; returning scalar instead, but in the future will perform elementwise comparison\n",
      "  result = getattr(x, name)(y)\n"
     ]
    },
    {
     "ename": "TypeError",
     "evalue": "invalid type comparison",
     "output_type": "error",
     "traceback": [
      "\u001b[1;31m---------------------------------------------------------------------------\u001b[0m",
      "\u001b[1;31mTypeError\u001b[0m                                 Traceback (most recent call last)",
      "\u001b[1;32m<ipython-input-82-f9c389026d7f>\u001b[0m in \u001b[0;36m<module>\u001b[1;34m()\u001b[0m\n\u001b[0;32m      1\u001b[0m \u001b[1;31m## Extract ride data\u001b[0m\u001b[1;33m\u001b[0m\u001b[1;33m\u001b[0m\u001b[0m\n\u001b[1;32m----> 2\u001b[1;33m \u001b[0mtrips\u001b[0m \u001b[1;33m=\u001b[0m \u001b[0mget_all_trip_data\u001b[0m\u001b[1;33m(\u001b[0m\u001b[1;33m)\u001b[0m\u001b[1;33m\u001b[0m\u001b[0m\n\u001b[0m",
      "\u001b[1;32m/home/mattgiamou/machine_learning/hubway/hubway/dataset_io.py\u001b[0m in \u001b[0;36mget_all_trip_data\u001b[1;34m()\u001b[0m\n\u001b[0;32m     24\u001b[0m     \u001b[1;32mfor\u001b[0m \u001b[0mmonth\u001b[0m \u001b[1;32min\u001b[0m \u001b[0mmonths\u001b[0m\u001b[1;33m:\u001b[0m\u001b[1;33m\u001b[0m\u001b[0m\n\u001b[0;32m     25\u001b[0m       \u001b[0mdf\u001b[0m \u001b[1;33m=\u001b[0m \u001b[0mget_trip_data\u001b[0m\u001b[1;33m(\u001b[0m\u001b[0myear\u001b[0m\u001b[1;33m,\u001b[0m \u001b[0mmonth\u001b[0m\u001b[1;33m)\u001b[0m\u001b[1;33m\u001b[0m\u001b[0m\n\u001b[1;32m---> 26\u001b[1;33m       \u001b[0mdf\u001b[0m \u001b[1;33m=\u001b[0m \u001b[0mdf\u001b[0m\u001b[1;33m[\u001b[0m\u001b[0mdf\u001b[0m\u001b[1;33m[\u001b[0m\u001b[1;34m'end station id'\u001b[0m\u001b[1;33m]\u001b[0m \u001b[1;33m!=\u001b[0m \u001b[1;34m'\\\\N'\u001b[0m\u001b[1;33m]\u001b[0m\u001b[1;33m\u001b[0m\u001b[0m\n\u001b[0m\u001b[0;32m     27\u001b[0m       \u001b[0mdf\u001b[0m\u001b[1;33m[\u001b[0m\u001b[1;34m'end station id'\u001b[0m\u001b[1;33m]\u001b[0m \u001b[1;33m=\u001b[0m \u001b[0mdf\u001b[0m\u001b[1;33m[\u001b[0m\u001b[1;34m'end station id'\u001b[0m\u001b[1;33m]\u001b[0m\u001b[1;33m.\u001b[0m\u001b[0mastype\u001b[0m\u001b[1;33m(\u001b[0m\u001b[0mint\u001b[0m\u001b[1;33m)\u001b[0m\u001b[1;33m\u001b[0m\u001b[0m\n\u001b[0;32m     28\u001b[0m       \u001b[0mdfs\u001b[0m\u001b[1;33m.\u001b[0m\u001b[0mappend\u001b[0m\u001b[1;33m(\u001b[0m\u001b[0mdf\u001b[0m\u001b[1;33m)\u001b[0m\u001b[1;33m\u001b[0m\u001b[0m\n",
      "\u001b[1;32m/home/mattgiamou/.virtualenvs/cv3/lib/python3.4/site-packages/pandas/core/ops.py\u001b[0m in \u001b[0;36mwrapper\u001b[1;34m(self, other, axis)\u001b[0m\n\u001b[0;32m    759\u001b[0m                 \u001b[0mother\u001b[0m \u001b[1;33m=\u001b[0m \u001b[0mnp\u001b[0m\u001b[1;33m.\u001b[0m\u001b[0masarray\u001b[0m\u001b[1;33m(\u001b[0m\u001b[0mother\u001b[0m\u001b[1;33m)\u001b[0m\u001b[1;33m\u001b[0m\u001b[0m\n\u001b[0;32m    760\u001b[0m \u001b[1;33m\u001b[0m\u001b[0m\n\u001b[1;32m--> 761\u001b[1;33m             \u001b[0mres\u001b[0m \u001b[1;33m=\u001b[0m \u001b[0mna_op\u001b[0m\u001b[1;33m(\u001b[0m\u001b[0mvalues\u001b[0m\u001b[1;33m,\u001b[0m \u001b[0mother\u001b[0m\u001b[1;33m)\u001b[0m\u001b[1;33m\u001b[0m\u001b[0m\n\u001b[0m\u001b[0;32m    762\u001b[0m             \u001b[1;32mif\u001b[0m \u001b[0misscalar\u001b[0m\u001b[1;33m(\u001b[0m\u001b[0mres\u001b[0m\u001b[1;33m)\u001b[0m\u001b[1;33m:\u001b[0m\u001b[1;33m\u001b[0m\u001b[0m\n\u001b[0;32m    763\u001b[0m                 raise TypeError('Could not compare %s type with Series' %\n",
      "\u001b[1;32m/home/mattgiamou/.virtualenvs/cv3/lib/python3.4/site-packages/pandas/core/ops.py\u001b[0m in \u001b[0;36mna_op\u001b[1;34m(x, y)\u001b[0m\n\u001b[0;32m    714\u001b[0m                 \u001b[0mresult\u001b[0m \u001b[1;33m=\u001b[0m \u001b[0mgetattr\u001b[0m\u001b[1;33m(\u001b[0m\u001b[0mx\u001b[0m\u001b[1;33m,\u001b[0m \u001b[0mname\u001b[0m\u001b[1;33m)\u001b[0m\u001b[1;33m(\u001b[0m\u001b[0my\u001b[0m\u001b[1;33m)\u001b[0m\u001b[1;33m\u001b[0m\u001b[0m\n\u001b[0;32m    715\u001b[0m                 \u001b[1;32mif\u001b[0m \u001b[0mresult\u001b[0m \u001b[1;32mis\u001b[0m \u001b[0mNotImplemented\u001b[0m\u001b[1;33m:\u001b[0m\u001b[1;33m\u001b[0m\u001b[0m\n\u001b[1;32m--> 716\u001b[1;33m                     \u001b[1;32mraise\u001b[0m \u001b[0mTypeError\u001b[0m\u001b[1;33m(\u001b[0m\u001b[1;34m\"invalid type comparison\"\u001b[0m\u001b[1;33m)\u001b[0m\u001b[1;33m\u001b[0m\u001b[0m\n\u001b[0m\u001b[0;32m    717\u001b[0m             \u001b[1;32mexcept\u001b[0m \u001b[0mAttributeError\u001b[0m\u001b[1;33m:\u001b[0m\u001b[1;33m\u001b[0m\u001b[0m\n\u001b[0;32m    718\u001b[0m                 \u001b[0mresult\u001b[0m \u001b[1;33m=\u001b[0m \u001b[0mop\u001b[0m\u001b[1;33m(\u001b[0m\u001b[0mx\u001b[0m\u001b[1;33m,\u001b[0m \u001b[0my\u001b[0m\u001b[1;33m)\u001b[0m\u001b[1;33m\u001b[0m\u001b[0m\n",
      "\u001b[1;31mTypeError\u001b[0m: invalid type comparison"
     ]
    }
   ],
   "source": [
    "## Extract ride data\n",
    "trips = get_all_trip_data()\n"
   ]
  },
  {
   "cell_type": "code",
   "execution_count": 54,
   "metadata": {
    "collapsed": false
   },
   "outputs": [
    {
     "name": "stdout",
     "output_type": "stream",
     "text": [
      "   tripduration            starttime             stoptime  start station id  \\\n",
      "0           542  2015-01-01 00:21:44  2015-01-01 00:30:47               115   \n",
      "1           438  2015-01-01 00:27:03  2015-01-01 00:34:21                80   \n",
      "2           254  2015-01-01 00:31:31  2015-01-01 00:35:46                91   \n",
      "3           432  2015-01-01 00:53:46  2015-01-01 01:00:58               115   \n",
      "4           735  2015-01-01 01:07:06  2015-01-01 01:19:21               105   \n",
      "\n",
      "                                 start station name  start station latitude  \\\n",
      "0                             Porter Square Station               42.387995   \n",
      "1           MIT Stata Center at Vassar St / Main St               42.361962   \n",
      "2  One Kendall Square at Hampshire St / Portland St               42.366277   \n",
      "3                             Porter Square Station               42.387995   \n",
      "4   Lower Cambridgeport at Magazine St/Riverside Rd               42.356954   \n",
      "\n",
      "   start station longitude end station id  \\\n",
      "0               -71.119084             96   \n",
      "1               -71.092053             95   \n",
      "2               -71.091690             68   \n",
      "3               -71.119084             96   \n",
      "4               -71.113687             88   \n",
      "\n",
      "                                    end station name end station latitude  \\\n",
      "0  Cambridge Main Library at Broadway / Trowbridg...              42.3734   \n",
      "1        Cambridge St - at Columbia St / Webster Ave               42.373   \n",
      "2              Central Square at Mass Ave / Essex St              42.3651   \n",
      "3  Cambridge Main Library at Broadway / Trowbridg...              42.3734   \n",
      "4      Inman Square at Vellucci Plaza / Hampshire St               42.374   \n",
      "\n",
      "  end station longitude  bikeid    usertype birth year  gender  \n",
      "0              -71.1111     277  Subscriber       1984       1  \n",
      "1              -71.0944     648  Subscriber       1985       1  \n",
      "2              -71.1031     555  Subscriber       1974       1  \n",
      "3              -71.1111    1307  Subscriber       1987       1  \n",
      "4              -71.1014     177    Customer       1986       2  \n",
      "N start stations: 192\n",
      "N end stations: 226\n",
      "End stations: [96 95 68 88 76 118 75 67 36 23 80 46 115 141 104 73 6 110 87 91 117 74 107\n",
      " 116 70 143 97 72 84 105 51 89 142 38 85 90 108 145 149 140 81 20 29 16 109\n",
      " 4 32 33 21 42 14 98 17 15 54 1 59 11 '88' '75' '96' '108' '67' '76' '104'\n",
      " '107' '118' '91' '74' '141' '117' '70' '73' '68' '105' '72' '143' '80'\n",
      " '84' '89' '95' '110' '97' '116' '115' '87' '90' '142' '140' '145' '1'\n",
      " '\\\\N' 9 120 41 10 44 58 99 60 53 71 100 55 112 66 86 78 122 22 40 114 125\n",
      " 123 39 45 48 24 7 129 64 135 19 43 150 49 13 151 65 47 37 131 3 12 111 136\n",
      " 25 57 119 5 124 94 121 27 30 63 31 138 106 113 133 26 137 139 8 103 77 93\n",
      " 102 152 128 130 126 35 69 56 61 134 50 52 82 132 79 92 160 161 162 167 170\n",
      " 163 169 174 175 159 171 178 176 179 180 177 190 146 189 173 186 192 193\n",
      " 194 195 197 196 200 199 153 201 203 204 205 202 183 207 208 210 209 214\n",
      " 212 213 217 211 216 215 218 184 158 185 219]\n"
     ]
    }
   ],
   "source": [
    "print(trips.head(5))\n",
    "start_station_ids = pd.Series.unique(trips['start station id'])\n",
    "end_station_ids = pd.Series.unique(trips['end station id'])\n",
    "print(\"N start stations: {:}\".format(len(start_station_ids)))\n",
    "print(\"N end stations: {:}\".format(len(end_station_ids)))\n",
    "\n",
    "# print(\"Dtypes: {:}\".format(trips.dtypes))\n",
    "# print(\"Start stations: {:}\".format(start_station_ids))\n",
    "print(\"End stations: {:}\".format(end_station_ids))\n",
    "# trips.describe()\n",
    "# print(np.all(np.sort(np.unique(trips['start station id'].as_matrix())) == np.sort(np.unique(trips['end station id'].as_matrix()))))\n"
   ]
  },
  {
   "cell_type": "code",
   "execution_count": 75,
   "metadata": {
    "collapsed": false
   },
   "outputs": [
    {
     "name": "stdout",
     "output_type": "stream",
     "text": [
      "['Harvard University Housing - 115 Putnam Ave at Peabody Terrace']\n"
     ]
    }
   ],
   "source": [
    "print(pd.Series.unique(trips[trips['end station id'] == 87]['end station name']))\n",
    "# trips[trips['end station id'] == ]"
   ]
  },
  {
   "cell_type": "code",
   "execution_count": 48,
   "metadata": {
    "collapsed": false
   },
   "outputs": [
    {
     "data": {
      "text/plain": [
       "Index(['tripduration', 'starttime', 'stoptime', 'start station id',\n",
       "       'start station name', 'start station latitude',\n",
       "       'start station longitude', 'end station id', 'end station name',\n",
       "       'end station latitude', 'end station longitude', 'bikeid', 'usertype',\n",
       "       'birth year', 'gender'],\n",
       "      dtype='object')"
      ]
     },
     "execution_count": 48,
     "metadata": {},
     "output_type": "execute_result"
    }
   ],
   "source": [
    "# Extract stations: id, lat, lon, name \n",
    "trips.columns\n",
    "stations_unique = trips[['start station id', 'start station name', ]]"
   ]
  },
  {
   "cell_type": "code",
   "execution_count": null,
   "metadata": {
    "collapsed": true
   },
   "outputs": [],
   "source": []
  },
  {
   "cell_type": "code",
   "execution_count": null,
   "metadata": {
    "collapsed": true
   },
   "outputs": [],
   "source": []
  },
  {
   "cell_type": "code",
   "execution_count": null,
   "metadata": {
    "collapsed": true
   },
   "outputs": [],
   "source": []
  },
  {
   "cell_type": "code",
   "execution_count": null,
   "metadata": {
    "collapsed": true
   },
   "outputs": [],
   "source": []
  },
  {
   "cell_type": "code",
   "execution_count": null,
   "metadata": {
    "collapsed": true
   },
   "outputs": [],
   "source": []
  },
  {
   "cell_type": "code",
   "execution_count": 26,
   "metadata": {
    "collapsed": false
   },
   "outputs": [],
   "source": [
    "## Plot locations with geoplotlib\n",
    "# gp.voronoi(stations, line_color='b')\n",
    "gp.delaunay(stations, cmap='BuGn')\n",
    "gp.dot(stations, color='r')\n",
    "# gp.graph(stations, color='g')\n",
    "gp.show()\n",
    "# Inline broken in Python 3.4: \n",
    "# gp.inline()"
   ]
  },
  {
   "cell_type": "code",
   "execution_count": null,
   "metadata": {
    "collapsed": true
   },
   "outputs": [],
   "source": []
  },
  {
   "cell_type": "code",
   "execution_count": 5,
   "metadata": {
    "collapsed": false
   },
   "outputs": [
    {
     "data": {
      "text/plain": [
       "[<matplotlib.lines.Line2D at 0x7f585a038470>]"
      ]
     },
     "execution_count": 5,
     "metadata": {},
     "output_type": "execute_result"
    },
    {
     "data": {
      "image/png": "[encoded data removed]",
      "text/plain": [
       "<matplotlib.figure.Figure at 0x7f585c1497f0>"
      ]
     },
     "metadata": {},
     "output_type": "display_data"
    }
   ],
   "source": [
    "## Plot stations on a map\n",
    "x, y = lat_lon_to_xy(lat, lon)\n",
    "plt.figure()\n",
    "plt.plot(x, y, 'bo')"
   ]
  },
  {
   "cell_type": "code",
   "execution_count": null,
   "metadata": {
    "collapsed": true
   },
   "outputs": [],
   "source": []
  },
  {
   "cell_type": "code",
   "execution_count": null,
   "metadata": {
    "collapsed": true
   },
   "outputs": [],
   "source": []
  },
  {
   "cell_type": "code",
   "execution_count": null,
   "metadata": {
    "collapsed": true
   },
   "outputs": [],
   "source": []
  }
 ],
 "metadata": {
  "kernelspec": {
   "display_name": "Python 3",
   "language": "python",
   "name": "python3"
  },
  "language_info": {
   "codemirror_mode": {
    "name": "ipython",
    "version": 3
   },
   "file_extension": ".py",
   "mimetype": "text/x-python",
   "name": "python",
   "nbconvert_exporter": "python",
   "pygments_lexer": "ipython3",
   "version": "3.4.3"
  }
 },
 "nbformat": 4,
 "nbformat_minor": 0
}
